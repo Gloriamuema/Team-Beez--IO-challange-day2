{
 "cells": [
  {
   "cell_type": "code",
   "execution_count": 2,
   "metadata": {},
   "outputs": [],
   "source": [
    "#import pandas\n",
    "import csv"
   ]
  },
  {
   "cell_type": "code",
   "execution_count": 3,
   "metadata": {},
   "outputs": [],
   "source": [
    "#file = open(\"ioday23.csv\",\"w\")"
   ]
  },
  {
   "cell_type": "code",
   "execution_count": 9,
   "metadata": {},
   "outputs": [],
   "source": [
    "with open('iotext.csv','w',newline ='') as f:\n",
    "    fieldnames = ['Student Id#','First Name', 'Last Name','DOB','Address']\n",
    "    document = csv.DictWriter(f,fieldnames = fieldnames)\n",
    "        \n",
    "\n",
    "    document.writeheader()\n",
    "    \n",
    "    document.writerow({'Student Id#': '123', 'First Name': 'Tim','Last Name':'Smith','DOB' : '19960215','Address':'777 Heavens Way'})\n",
    "    document.writerow({'Student Id#': '123', 'First Name': 'Tim','Last Name':'Smith','DOB' : '19960215','Address':'777 Heavens Way'})\n",
    "    document.writerow({'Student Id#': '123', 'First Name': 'Tim','Last Name':'Smith','DOB' : '19960215','Address':'777 Heavens Way'})\n",
    "    document.writerow({'Student Id#': '123', 'First Name': 'Tim','Last Name':'Smith','DOB' : '19960215','Address':'777 Heavens Way'})\n",
    "    document.writerow({'Student Id#': '123', 'First Name': 'Tim','Last Name':'Smith','DOB' : '19960215','Address':'777 Heavens Way'})\n",
    "    document.writerow({'Student Id#': '123', 'First Name': 'Tim','Last Name':'Smith','DOB' : '19960215','Address':'777 Heavens Way'})\n",
    "    document.writerow({'Student Id#': '123', 'First Name': 'Tim','Last Name':'Smith','DOB' : '19960215','Address':'777 Heavens Way'})\n",
    "    document.writerow({'Student Id#': '123', 'First Name': 'Tim','Last Name':'Smith','DOB' : '19960215','Address':'777 Heavens Way'})\n",
    "    document.writerow({'Student Id#': '123', 'First Name': 'Tim','Last Name':'Smith','DOB' : '19960215','Address':'777 Heavens Way'})\n",
    "    document.writerow({'Student Id#': '123', 'First Name': 'Tim','Last Name':'Smith','DOB' : '19960215','Address':'777 Heavens Way'})\n"
   ]
  },
  {
   "cell_type": "code",
   "execution_count": null,
   "metadata": {},
   "outputs": [],
   "source": []
  },
  {
   "cell_type": "code",
   "execution_count": null,
   "metadata": {},
   "outputs": [],
   "source": []
  },
  {
   "cell_type": "code",
   "execution_count": null,
   "metadata": {},
   "outputs": [],
   "source": []
  }
 ],
 "metadata": {
  "kernelspec": {
   "display_name": "Python 3",
   "language": "python",
   "name": "python3"
  },
  "language_info": {
   "codemirror_mode": {
    "name": "ipython",
    "version": 3
   },
   "file_extension": ".py",
   "mimetype": "text/x-python",
   "name": "python",
   "nbconvert_exporter": "python",
   "pygments_lexer": "ipython3",
   "version": "3.7.1"
  }
 },
 "nbformat": 4,
 "nbformat_minor": 2
}
